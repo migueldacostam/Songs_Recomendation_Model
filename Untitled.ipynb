{
 "cells": [
  {
   "cell_type": "code",
   "execution_count": 1,
   "id": "35b69da9-4130-4454-a18b-f34493357b06",
   "metadata": {},
   "outputs": [],
   "source": [
    "import pandas as pd\n",
    "import numpy as np\n",
    "from matplotlib import pyplot as plt\n",
    "from sklearn.preprocessing import StandardScaler, LabelEncoder\n",
    "from sklearn.metrics.pairwise import cosine_similarity\n",
    "from sklearn.neighbors import NearestNeighbors\n",
    "from tensorflow.keras.models import Model\n",
    "from tensorflow.keras.layers import Input, Dense\n",
    "from tensorflow.keras.callbacks import EarlyStopping"
   ]
  },
  {
   "cell_type": "code",
   "execution_count": 2,
   "id": "00305167-a7f1-4cac-bbd0-3f9d9c7c2da8",
   "metadata": {},
   "outputs": [
    {
     "data": {
      "text/html": [
       "<div>\n",
       "<style scoped>\n",
       "    .dataframe tbody tr th:only-of-type {\n",
       "        vertical-align: middle;\n",
       "    }\n",
       "\n",
       "    .dataframe tbody tr th {\n",
       "        vertical-align: top;\n",
       "    }\n",
       "\n",
       "    .dataframe thead th {\n",
       "        text-align: right;\n",
       "    }\n",
       "</style>\n",
       "<table border=\"1\" class=\"dataframe\">\n",
       "  <thead>\n",
       "    <tr style=\"text-align: right;\">\n",
       "      <th></th>\n",
       "      <th>id</th>\n",
       "      <th>name</th>\n",
       "      <th>genre</th>\n",
       "      <th>artists</th>\n",
       "      <th>album</th>\n",
       "      <th>popularity</th>\n",
       "      <th>duration_ms</th>\n",
       "      <th>explicit</th>\n",
       "    </tr>\n",
       "  </thead>\n",
       "  <tbody>\n",
       "    <tr>\n",
       "      <th>0</th>\n",
       "      <td>7kr3xZk4yb3YSZ4VFtg2Qt</td>\n",
       "      <td>Acoustic</td>\n",
       "      <td>acoustic</td>\n",
       "      <td>Billy Raffoul</td>\n",
       "      <td>1975</td>\n",
       "      <td>58</td>\n",
       "      <td>172199</td>\n",
       "      <td>False</td>\n",
       "    </tr>\n",
       "    <tr>\n",
       "      <th>1</th>\n",
       "      <td>1kJygfS4eoVziBBI93MSYp</td>\n",
       "      <td>Acoustic</td>\n",
       "      <td>acoustic</td>\n",
       "      <td>Billy Raffoul</td>\n",
       "      <td>A Few More Hours at YYZ</td>\n",
       "      <td>57</td>\n",
       "      <td>172202</td>\n",
       "      <td>False</td>\n",
       "    </tr>\n",
       "    <tr>\n",
       "      <th>2</th>\n",
       "      <td>6lynns69p4zTCRxmmiSY1x</td>\n",
       "      <td>Here Comes the Sun - Acoustic</td>\n",
       "      <td>acoustic</td>\n",
       "      <td>Molly Hocking, Bailey Rushlow</td>\n",
       "      <td>Here Comes the Sun (Acoustic)</td>\n",
       "      <td>42</td>\n",
       "      <td>144786</td>\n",
       "      <td>False</td>\n",
       "    </tr>\n",
       "    <tr>\n",
       "      <th>3</th>\n",
       "      <td>1RC9slv335IfLce5vt9KTW</td>\n",
       "      <td>Acoustic #3</td>\n",
       "      <td>acoustic</td>\n",
       "      <td>The Goo Goo Dolls</td>\n",
       "      <td>Dizzy up the Girl</td>\n",
       "      <td>46</td>\n",
       "      <td>116573</td>\n",
       "      <td>False</td>\n",
       "    </tr>\n",
       "    <tr>\n",
       "      <th>4</th>\n",
       "      <td>5o9L8xBuILoVjLECSBi7Vo</td>\n",
       "      <td>My Love Mine All Mine - Acoustic Instrumental</td>\n",
       "      <td>acoustic</td>\n",
       "      <td>Guus Dielissen, Casper Esmann</td>\n",
       "      <td>My Love Mine All Mine (Acoustic Instrumental)</td>\n",
       "      <td>33</td>\n",
       "      <td>133922</td>\n",
       "      <td>False</td>\n",
       "    </tr>\n",
       "  </tbody>\n",
       "</table>\n",
       "</div>"
      ],
      "text/plain": [
       "                       id                                           name  \\\n",
       "0  7kr3xZk4yb3YSZ4VFtg2Qt                                       Acoustic   \n",
       "1  1kJygfS4eoVziBBI93MSYp                                       Acoustic   \n",
       "2  6lynns69p4zTCRxmmiSY1x                  Here Comes the Sun - Acoustic   \n",
       "3  1RC9slv335IfLce5vt9KTW                                    Acoustic #3   \n",
       "4  5o9L8xBuILoVjLECSBi7Vo  My Love Mine All Mine - Acoustic Instrumental   \n",
       "\n",
       "      genre                        artists  \\\n",
       "0  acoustic                  Billy Raffoul   \n",
       "1  acoustic                  Billy Raffoul   \n",
       "2  acoustic  Molly Hocking, Bailey Rushlow   \n",
       "3  acoustic              The Goo Goo Dolls   \n",
       "4  acoustic  Guus Dielissen, Casper Esmann   \n",
       "\n",
       "                                           album  popularity  duration_ms  \\\n",
       "0                                           1975          58       172199   \n",
       "1                        A Few More Hours at YYZ          57       172202   \n",
       "2                  Here Comes the Sun (Acoustic)          42       144786   \n",
       "3                              Dizzy up the Girl          46       116573   \n",
       "4  My Love Mine All Mine (Acoustic Instrumental)          33       133922   \n",
       "\n",
       "   explicit  \n",
       "0     False  \n",
       "1     False  \n",
       "2     False  \n",
       "3     False  \n",
       "4     False  "
      ]
     },
     "execution_count": 2,
     "metadata": {},
     "output_type": "execute_result"
    }
   ],
   "source": [
    "df = pd.read_csv('spotify_tracks.csv')\n",
    "\n",
    "# Mostrar las primeras filas del DataFrame\n",
    "df.head()"
   ]
  },
  {
   "cell_type": "code",
   "execution_count": 3,
   "id": "94143188-af1c-4b38-b9d6-cf2b8ddbf416",
   "metadata": {},
   "outputs": [
    {
     "data": {
      "text/plain": [
       "(6300, 8)"
      ]
     },
     "execution_count": 3,
     "metadata": {},
     "output_type": "execute_result"
    }
   ],
   "source": [
    "df.shape"
   ]
  },
  {
   "cell_type": "code",
   "execution_count": 4,
   "id": "0010f80b-0c57-4ece-8421-3cef48a4f3e3",
   "metadata": {},
   "outputs": [
    {
     "data": {
      "text/plain": [
       "id             0\n",
       "name           0\n",
       "genre          0\n",
       "artists        0\n",
       "album          0\n",
       "popularity     0\n",
       "duration_ms    0\n",
       "explicit       0\n",
       "dtype: int64"
      ]
     },
     "execution_count": 4,
     "metadata": {},
     "output_type": "execute_result"
    }
   ],
   "source": [
    "df.isnull().sum()"
   ]
  },
  {
   "cell_type": "code",
   "execution_count": 5,
   "id": "bdbe3910-3496-40ea-aec0-82c7747b7afa",
   "metadata": {},
   "outputs": [
    {
     "data": {
      "text/plain": [
       "id             object\n",
       "name           object\n",
       "genre          object\n",
       "artists        object\n",
       "album          object\n",
       "popularity      int64\n",
       "duration_ms     int64\n",
       "explicit         bool\n",
       "dtype: object"
      ]
     },
     "execution_count": 5,
     "metadata": {},
     "output_type": "execute_result"
    }
   ],
   "source": [
    "df.dtypes"
   ]
  },
  {
   "cell_type": "code",
   "execution_count": 6,
   "id": "47cb54e6-f23b-45e0-bb4c-bc481ec81002",
   "metadata": {},
   "outputs": [],
   "source": [
    "# eliminamos las columna 'id'\n",
    "df.drop(columns=[\"id\"],inplace=True)"
   ]
  },
  {
   "cell_type": "code",
   "execution_count": null,
   "id": "c56d9057-18df-46f6-b49f-01a5540fe4a6",
   "metadata": {},
   "outputs": [],
   "source": []
  }
 ],
 "metadata": {
  "kernelspec": {
   "display_name": "Python 3 (ipykernel)",
   "language": "python",
   "name": "python3"
  },
  "language_info": {
   "codemirror_mode": {
    "name": "ipython",
    "version": 3
   },
   "file_extension": ".py",
   "mimetype": "text/x-python",
   "name": "python",
   "nbconvert_exporter": "python",
   "pygments_lexer": "ipython3",
   "version": "3.12.4"
  }
 },
 "nbformat": 4,
 "nbformat_minor": 5
}
