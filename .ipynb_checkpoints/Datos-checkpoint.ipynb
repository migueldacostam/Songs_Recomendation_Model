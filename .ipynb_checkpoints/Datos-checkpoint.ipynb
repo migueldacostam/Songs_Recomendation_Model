{
 "cells": [
  {
   "cell_type": "code",
   "execution_count": 20,
   "id": "afd57cc5-6f04-4f8f-8c3c-54ea23dd180a",
   "metadata": {},
   "outputs": [
    {
     "ename": "ModuleNotFoundError",
     "evalue": "No module named 'tensorflow'",
     "output_type": "error",
     "traceback": [
      "\u001b[0;31m---------------------------------------------------------------------------\u001b[0m",
      "\u001b[0;31mModuleNotFoundError\u001b[0m                       Traceback (most recent call last)",
      "Cell \u001b[0;32mIn[20], line 9\u001b[0m\n\u001b[1;32m      7\u001b[0m \u001b[38;5;28;01mfrom\u001b[39;00m \u001b[38;5;21;01msklearn\u001b[39;00m\u001b[38;5;21;01m.\u001b[39;00m\u001b[38;5;21;01mmetrics\u001b[39;00m\u001b[38;5;21;01m.\u001b[39;00m\u001b[38;5;21;01mpairwise\u001b[39;00m \u001b[38;5;28;01mimport\u001b[39;00m cosine_similarity\n\u001b[1;32m      8\u001b[0m \u001b[38;5;28;01mfrom\u001b[39;00m \u001b[38;5;21;01msklearn\u001b[39;00m\u001b[38;5;21;01m.\u001b[39;00m\u001b[38;5;21;01mneighbors\u001b[39;00m \u001b[38;5;28;01mimport\u001b[39;00m NearestNeighbors\n\u001b[0;32m----> 9\u001b[0m \u001b[38;5;28;01mfrom\u001b[39;00m \u001b[38;5;21;01mtensorflow\u001b[39;00m\u001b[38;5;21;01m.\u001b[39;00m\u001b[38;5;21;01mkeras\u001b[39;00m\u001b[38;5;21;01m.\u001b[39;00m\u001b[38;5;21;01mmodels\u001b[39;00m \u001b[38;5;28;01mimport\u001b[39;00m Model\n\u001b[1;32m     10\u001b[0m \u001b[38;5;28;01mfrom\u001b[39;00m \u001b[38;5;21;01mtensorflow\u001b[39;00m\u001b[38;5;21;01m.\u001b[39;00m\u001b[38;5;21;01mkeras\u001b[39;00m\u001b[38;5;21;01m.\u001b[39;00m\u001b[38;5;21;01mlayers\u001b[39;00m \u001b[38;5;28;01mimport\u001b[39;00m Input, Dense\n\u001b[1;32m     11\u001b[0m \u001b[38;5;28;01mfrom\u001b[39;00m \u001b[38;5;21;01mtensorflow\u001b[39;00m\u001b[38;5;21;01m.\u001b[39;00m\u001b[38;5;21;01mkeras\u001b[39;00m\u001b[38;5;21;01m.\u001b[39;00m\u001b[38;5;21;01mcallbacks\u001b[39;00m \u001b[38;5;28;01mimport\u001b[39;00m EarlyStopping\n",
      "\u001b[0;31mModuleNotFoundError\u001b[0m: No module named 'tensorflow'"
     ]
    }
   ],
   "source": [
    "import warnings\n",
    "warnings.filterwarnings(\"ignore\")\n",
    "import numpy as np\n",
    "import pandas as pd\n",
    "from matplotlib import pyplot as plt\n",
    "from sklearn.preprocessing import StandardScaler, LabelEncoder\n",
    "from sklearn.metrics.pairwise import cosine_similarity\n",
    "from sklearn.neighbors import NearestNeighbors\n",
    "from tensorflow.keras.models import Model\n",
    "from tensorflow.keras.layers import Input, Dense\n",
    "from tensorflow.keras.callbacks import EarlyStopping"
   ]
  },
  {
   "cell_type": "markdown",
   "id": "ce4cc8c2-2b44-4511-816e-249c779457a3",
   "metadata": {},
   "source": [
    "# Importar CSV"
   ]
  },
  {
   "cell_type": "code",
   "execution_count": 3,
   "id": "688c7ca8-479e-496c-9df2-bce5ee70eb47",
   "metadata": {},
   "outputs": [
    {
     "data": {
      "text/html": [
       "<div>\n",
       "<style scoped>\n",
       "    .dataframe tbody tr th:only-of-type {\n",
       "        vertical-align: middle;\n",
       "    }\n",
       "\n",
       "    .dataframe tbody tr th {\n",
       "        vertical-align: top;\n",
       "    }\n",
       "\n",
       "    .dataframe thead th {\n",
       "        text-align: right;\n",
       "    }\n",
       "</style>\n",
       "<table border=\"1\" class=\"dataframe\">\n",
       "  <thead>\n",
       "    <tr style=\"text-align: right;\">\n",
       "      <th></th>\n",
       "      <th>id</th>\n",
       "      <th>name</th>\n",
       "      <th>genre</th>\n",
       "      <th>artists</th>\n",
       "      <th>album</th>\n",
       "      <th>popularity</th>\n",
       "      <th>duration_ms</th>\n",
       "      <th>explicit</th>\n",
       "    </tr>\n",
       "  </thead>\n",
       "  <tbody>\n",
       "    <tr>\n",
       "      <th>0</th>\n",
       "      <td>7kr3xZk4yb3YSZ4VFtg2Qt</td>\n",
       "      <td>Acoustic</td>\n",
       "      <td>acoustic</td>\n",
       "      <td>Billy Raffoul</td>\n",
       "      <td>1975</td>\n",
       "      <td>58</td>\n",
       "      <td>172199</td>\n",
       "      <td>False</td>\n",
       "    </tr>\n",
       "    <tr>\n",
       "      <th>1</th>\n",
       "      <td>1kJygfS4eoVziBBI93MSYp</td>\n",
       "      <td>Acoustic</td>\n",
       "      <td>acoustic</td>\n",
       "      <td>Billy Raffoul</td>\n",
       "      <td>A Few More Hours at YYZ</td>\n",
       "      <td>57</td>\n",
       "      <td>172202</td>\n",
       "      <td>False</td>\n",
       "    </tr>\n",
       "    <tr>\n",
       "      <th>2</th>\n",
       "      <td>6lynns69p4zTCRxmmiSY1x</td>\n",
       "      <td>Here Comes the Sun - Acoustic</td>\n",
       "      <td>acoustic</td>\n",
       "      <td>Molly Hocking, Bailey Rushlow</td>\n",
       "      <td>Here Comes the Sun (Acoustic)</td>\n",
       "      <td>42</td>\n",
       "      <td>144786</td>\n",
       "      <td>False</td>\n",
       "    </tr>\n",
       "    <tr>\n",
       "      <th>3</th>\n",
       "      <td>1RC9slv335IfLce5vt9KTW</td>\n",
       "      <td>Acoustic #3</td>\n",
       "      <td>acoustic</td>\n",
       "      <td>The Goo Goo Dolls</td>\n",
       "      <td>Dizzy up the Girl</td>\n",
       "      <td>46</td>\n",
       "      <td>116573</td>\n",
       "      <td>False</td>\n",
       "    </tr>\n",
       "    <tr>\n",
       "      <th>4</th>\n",
       "      <td>5o9L8xBuILoVjLECSBi7Vo</td>\n",
       "      <td>My Love Mine All Mine - Acoustic Instrumental</td>\n",
       "      <td>acoustic</td>\n",
       "      <td>Guus Dielissen, Casper Esmann</td>\n",
       "      <td>My Love Mine All Mine (Acoustic Instrumental)</td>\n",
       "      <td>33</td>\n",
       "      <td>133922</td>\n",
       "      <td>False</td>\n",
       "    </tr>\n",
       "  </tbody>\n",
       "</table>\n",
       "</div>"
      ],
      "text/plain": [
       "                       id                                           name  \\\n",
       "0  7kr3xZk4yb3YSZ4VFtg2Qt                                       Acoustic   \n",
       "1  1kJygfS4eoVziBBI93MSYp                                       Acoustic   \n",
       "2  6lynns69p4zTCRxmmiSY1x                  Here Comes the Sun - Acoustic   \n",
       "3  1RC9slv335IfLce5vt9KTW                                    Acoustic #3   \n",
       "4  5o9L8xBuILoVjLECSBi7Vo  My Love Mine All Mine - Acoustic Instrumental   \n",
       "\n",
       "      genre                        artists  \\\n",
       "0  acoustic                  Billy Raffoul   \n",
       "1  acoustic                  Billy Raffoul   \n",
       "2  acoustic  Molly Hocking, Bailey Rushlow   \n",
       "3  acoustic              The Goo Goo Dolls   \n",
       "4  acoustic  Guus Dielissen, Casper Esmann   \n",
       "\n",
       "                                           album  popularity  duration_ms  \\\n",
       "0                                           1975          58       172199   \n",
       "1                        A Few More Hours at YYZ          57       172202   \n",
       "2                  Here Comes the Sun (Acoustic)          42       144786   \n",
       "3                              Dizzy up the Girl          46       116573   \n",
       "4  My Love Mine All Mine (Acoustic Instrumental)          33       133922   \n",
       "\n",
       "   explicit  \n",
       "0     False  \n",
       "1     False  \n",
       "2     False  \n",
       "3     False  \n",
       "4     False  "
      ]
     },
     "execution_count": 3,
     "metadata": {},
     "output_type": "execute_result"
    }
   ],
   "source": [
    "# Leer el archivo CSV\n",
    "df = pd.read_csv('spotify_tracks.csv')\n",
    "\n",
    "# Mostrar las primeras filas del DataFrame\n",
    "df.head()"
   ]
  },
  {
   "cell_type": "code",
   "execution_count": 4,
   "id": "2519c791-b8a5-4d6c-b76c-55453bda2e64",
   "metadata": {},
   "outputs": [
    {
     "data": {
      "text/plain": [
       "(6300, 8)"
      ]
     },
     "execution_count": 4,
     "metadata": {},
     "output_type": "execute_result"
    }
   ],
   "source": [
    "df.shape"
   ]
  },
  {
   "cell_type": "code",
   "execution_count": 5,
   "id": "4e95d97f-9e8c-42b6-8bf9-29ab3ab6786c",
   "metadata": {},
   "outputs": [
    {
     "data": {
      "text/plain": [
       "id             0\n",
       "name           0\n",
       "genre          0\n",
       "artists        0\n",
       "album          0\n",
       "popularity     0\n",
       "duration_ms    0\n",
       "explicit       0\n",
       "dtype: int64"
      ]
     },
     "execution_count": 5,
     "metadata": {},
     "output_type": "execute_result"
    }
   ],
   "source": [
    "df.isnull().sum()"
   ]
  },
  {
   "cell_type": "code",
   "execution_count": 8,
   "id": "3d1f3c27-a4bd-4839-9b0e-a8443708ed88",
   "metadata": {},
   "outputs": [
    {
     "data": {
      "text/plain": [
       "id             object\n",
       "name           object\n",
       "genre          object\n",
       "artists        object\n",
       "album          object\n",
       "popularity      int64\n",
       "duration_ms     int64\n",
       "explicit         bool\n",
       "dtype: object"
      ]
     },
     "execution_count": 8,
     "metadata": {},
     "output_type": "execute_result"
    }
   ],
   "source": [
    "df.dtypes"
   ]
  },
  {
   "cell_type": "markdown",
   "id": "1138ecf3-2684-4b6a-a718-ffd8f8196182",
   "metadata": {},
   "source": [
    "# Procesamiento de los Datos"
   ]
  },
  {
   "cell_type": "code",
   "execution_count": 9,
   "id": "bafb7fa5-3247-4f46-a419-576c687393d2",
   "metadata": {},
   "outputs": [],
   "source": [
    "df.drop(columns=[\"id\"],inplace=True)"
   ]
  },
  {
   "cell_type": "code",
   "execution_count": 11,
   "id": "6a9670e7-a55b-479b-b688-ca2071903b00",
   "metadata": {},
   "outputs": [
    {
     "data": {
      "text/plain": [
       "22"
      ]
     },
     "execution_count": 11,
     "metadata": {},
     "output_type": "execute_result"
    }
   ],
   "source": [
    "df.duplicated(subset=df.drop(columns=[\"name\"]).columns).sum()"
   ]
  },
  {
   "cell_type": "code",
   "execution_count": 12,
   "id": "885b9ae2-d780-40ac-91aa-5301c8e1f6c9",
   "metadata": {},
   "outputs": [],
   "source": [
    "df.drop_duplicates(subset=['genre', 'artists', 'album', 'popularity', 'duration_ms', 'explicit'],inplace=True)"
   ]
  },
  {
   "cell_type": "code",
   "execution_count": 13,
   "id": "f980b45b-2f5e-4487-bf49-523e00603c4d",
   "metadata": {},
   "outputs": [
    {
     "name": "stdout",
     "output_type": "stream",
     "text": [
      "<class 'pandas.core.frame.DataFrame'>\n",
      "Index: 6278 entries, 0 to 6299\n",
      "Data columns (total 7 columns):\n",
      " #   Column       Non-Null Count  Dtype \n",
      "---  ------       --------------  ----- \n",
      " 0   name         6278 non-null   object\n",
      " 1   genre        6278 non-null   object\n",
      " 2   artists      6278 non-null   object\n",
      " 3   album        6278 non-null   object\n",
      " 4   popularity   6278 non-null   int64 \n",
      " 5   duration_ms  6278 non-null   int64 \n",
      " 6   explicit     6278 non-null   bool  \n",
      "dtypes: bool(1), int64(2), object(4)\n",
      "memory usage: 349.5+ KB\n"
     ]
    }
   ],
   "source": [
    "df.info()"
   ]
  },
  {
   "cell_type": "code",
   "execution_count": 14,
   "id": "cf00668b-109d-4bc7-a1d1-a6f020f2cadb",
   "metadata": {},
   "outputs": [
    {
     "data": {
      "text/plain": [
       "4651"
      ]
     },
     "execution_count": 14,
     "metadata": {},
     "output_type": "execute_result"
    }
   ],
   "source": [
    "df[\"artists\"].nunique()"
   ]
  },
  {
   "cell_type": "code",
   "execution_count": 15,
   "id": "7099cf35-e857-4c60-81fd-aa935f6ee5f2",
   "metadata": {},
   "outputs": [
    {
     "data": {
      "text/plain": [
       "4949"
      ]
     },
     "execution_count": 15,
     "metadata": {},
     "output_type": "execute_result"
    }
   ],
   "source": [
    "df[\"album\"].nunique()"
   ]
  },
  {
   "cell_type": "code",
   "execution_count": 16,
   "id": "4f0df5f5-5f76-47da-bda6-09dcd1622922",
   "metadata": {},
   "outputs": [
    {
     "data": {
      "text/plain": [
       "count    6.278000e+03\n",
       "mean     2.030076e+05\n",
       "std      1.212022e+05\n",
       "min      3.006000e+04\n",
       "25%      1.477160e+05\n",
       "50%      1.918615e+05\n",
       "75%      2.370105e+05\n",
       "max      3.601658e+06\n",
       "Name: duration_ms, dtype: float64"
      ]
     },
     "execution_count": 16,
     "metadata": {},
     "output_type": "execute_result"
    }
   ],
   "source": [
    "df[\"duration_ms\"].describe()"
   ]
  },
  {
   "cell_type": "code",
   "execution_count": 17,
   "id": "bf553264-de48-4057-8f9e-ab46134f76a9",
   "metadata": {},
   "outputs": [
    {
     "data": {
      "text/plain": [
       "count    6278.000000\n",
       "mean       30.855049\n",
       "std        19.905777\n",
       "min         0.000000\n",
       "25%        16.000000\n",
       "50%        29.000000\n",
       "75%        45.000000\n",
       "max        90.000000\n",
       "Name: popularity, dtype: float64"
      ]
     },
     "execution_count": 17,
     "metadata": {},
     "output_type": "execute_result"
    }
   ],
   "source": [
    "df[\"popularity\"].describe()"
   ]
  },
  {
   "cell_type": "code",
   "execution_count": 18,
   "id": "a88b0472-244f-4ee2-8da9-299e0afb50f8",
   "metadata": {},
   "outputs": [
    {
     "data": {
      "text/plain": [
       "explicit\n",
       "False    5085\n",
       "True     1193\n",
       "Name: count, dtype: int64"
      ]
     },
     "execution_count": 18,
     "metadata": {},
     "output_type": "execute_result"
    }
   ],
   "source": [
    "df[\"explicit\"].value_counts()"
   ]
  },
  {
   "cell_type": "code",
   "execution_count": 21,
   "id": "6f9f6dd4-8644-4e9e-9cd4-537cdf1f5287",
   "metadata": {},
   "outputs": [
    {
     "data": {
      "image/png": "[encoded data removed]",
      "text/plain": [
       "<Figure size 640x480 with 1 Axes>"
      ]
     },
     "metadata": {},
     "output_type": "display_data"
    }
   ],
   "source": [
    "plt.pie(df[\"explicit\"].value_counts(),labels=df[\"explicit\"].unique(),autopct='%1.2f%%')\n",
    "plt.show()"
   ]
  },
  {
   "cell_type": "markdown",
   "id": "116df43e-c53e-4954-a139-a1d2f5a39bc0",
   "metadata": {},
   "source": [
    "# Transformacion de los Datos "
   ]
  },
  {
   "cell_type": "code",
   "execution_count": null,
   "id": "5dbf711f-c77a-48a4-baac-0de4653cc1df",
   "metadata": {},
   "outputs": [],
   "source": []
  }
 ],
 "metadata": {
  "kernelspec": {
   "display_name": "Python 3 (ipykernel)",
   "language": "python",
   "name": "python3"
  },
  "language_info": {
   "codemirror_mode": {
    "name": "ipython",
    "version": 3
   },
   "file_extension": ".py",
   "mimetype": "text/x-python",
   "name": "python",
   "nbconvert_exporter": "python",
   "pygments_lexer": "ipython3",
   "version": "3.12.4"
  }
 },
 "nbformat": 4,
 "nbformat_minor": 5
}
