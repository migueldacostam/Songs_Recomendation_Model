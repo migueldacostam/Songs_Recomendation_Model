{
 "cells": [
  {
   "cell_type": "code",
   "execution_count": 1,
   "id": "afd57cc5-6f04-4f8f-8c3c-54ea23dd180a",
   "metadata": {},
   "outputs": [],
   "source": [
    "import pandas as pd"
   ]
  },
  {
   "cell_type": "markdown",
   "id": "ce4cc8c2-2b44-4511-816e-249c779457a3",
   "metadata": {},
   "source": [
    "# Importar CSV"
   ]
  },
  {
   "cell_type": "code",
   "execution_count": 3,
   "id": "688c7ca8-479e-496c-9df2-bce5ee70eb47",
   "metadata": {},
   "outputs": [
    {
     "data": {
      "text/html": [
       "<div>\n",
       "<style scoped>\n",
       "    .dataframe tbody tr th:only-of-type {\n",
       "        vertical-align: middle;\n",
       "    }\n",
       "\n",
       "    .dataframe tbody tr th {\n",
       "        vertical-align: top;\n",
       "    }\n",
       "\n",
       "    .dataframe thead th {\n",
       "        text-align: right;\n",
       "    }\n",
       "</style>\n",
       "<table border=\"1\" class=\"dataframe\">\n",
       "  <thead>\n",
       "    <tr style=\"text-align: right;\">\n",
       "      <th></th>\n",
       "      <th>id</th>\n",
       "      <th>name</th>\n",
       "      <th>genre</th>\n",
       "      <th>artists</th>\n",
       "      <th>album</th>\n",
       "      <th>popularity</th>\n",
       "      <th>duration_ms</th>\n",
       "      <th>explicit</th>\n",
       "    </tr>\n",
       "  </thead>\n",
       "  <tbody>\n",
       "    <tr>\n",
       "      <th>0</th>\n",
       "      <td>7kr3xZk4yb3YSZ4VFtg2Qt</td>\n",
       "      <td>Acoustic</td>\n",
       "      <td>acoustic</td>\n",
       "      <td>Billy Raffoul</td>\n",
       "      <td>1975</td>\n",
       "      <td>58</td>\n",
       "      <td>172199</td>\n",
       "      <td>False</td>\n",
       "    </tr>\n",
       "    <tr>\n",
       "      <th>1</th>\n",
       "      <td>1kJygfS4eoVziBBI93MSYp</td>\n",
       "      <td>Acoustic</td>\n",
       "      <td>acoustic</td>\n",
       "      <td>Billy Raffoul</td>\n",
       "      <td>A Few More Hours at YYZ</td>\n",
       "      <td>57</td>\n",
       "      <td>172202</td>\n",
       "      <td>False</td>\n",
       "    </tr>\n",
       "    <tr>\n",
       "      <th>2</th>\n",
       "      <td>6lynns69p4zTCRxmmiSY1x</td>\n",
       "      <td>Here Comes the Sun - Acoustic</td>\n",
       "      <td>acoustic</td>\n",
       "      <td>Molly Hocking, Bailey Rushlow</td>\n",
       "      <td>Here Comes the Sun (Acoustic)</td>\n",
       "      <td>42</td>\n",
       "      <td>144786</td>\n",
       "      <td>False</td>\n",
       "    </tr>\n",
       "    <tr>\n",
       "      <th>3</th>\n",
       "      <td>1RC9slv335IfLce5vt9KTW</td>\n",
       "      <td>Acoustic #3</td>\n",
       "      <td>acoustic</td>\n",
       "      <td>The Goo Goo Dolls</td>\n",
       "      <td>Dizzy up the Girl</td>\n",
       "      <td>46</td>\n",
       "      <td>116573</td>\n",
       "      <td>False</td>\n",
       "    </tr>\n",
       "    <tr>\n",
       "      <th>4</th>\n",
       "      <td>5o9L8xBuILoVjLECSBi7Vo</td>\n",
       "      <td>My Love Mine All Mine - Acoustic Instrumental</td>\n",
       "      <td>acoustic</td>\n",
       "      <td>Guus Dielissen, Casper Esmann</td>\n",
       "      <td>My Love Mine All Mine (Acoustic Instrumental)</td>\n",
       "      <td>33</td>\n",
       "      <td>133922</td>\n",
       "      <td>False</td>\n",
       "    </tr>\n",
       "  </tbody>\n",
       "</table>\n",
       "</div>"
      ],
      "text/plain": [
       "                       id                                           name  \\\n",
       "0  7kr3xZk4yb3YSZ4VFtg2Qt                                       Acoustic   \n",
       "1  1kJygfS4eoVziBBI93MSYp                                       Acoustic   \n",
       "2  6lynns69p4zTCRxmmiSY1x                  Here Comes the Sun - Acoustic   \n",
       "3  1RC9slv335IfLce5vt9KTW                                    Acoustic #3   \n",
       "4  5o9L8xBuILoVjLECSBi7Vo  My Love Mine All Mine - Acoustic Instrumental   \n",
       "\n",
       "      genre                        artists  \\\n",
       "0  acoustic                  Billy Raffoul   \n",
       "1  acoustic                  Billy Raffoul   \n",
       "2  acoustic  Molly Hocking, Bailey Rushlow   \n",
       "3  acoustic              The Goo Goo Dolls   \n",
       "4  acoustic  Guus Dielissen, Casper Esmann   \n",
       "\n",
       "                                           album  popularity  duration_ms  \\\n",
       "0                                           1975          58       172199   \n",
       "1                        A Few More Hours at YYZ          57       172202   \n",
       "2                  Here Comes the Sun (Acoustic)          42       144786   \n",
       "3                              Dizzy up the Girl          46       116573   \n",
       "4  My Love Mine All Mine (Acoustic Instrumental)          33       133922   \n",
       "\n",
       "   explicit  \n",
       "0     False  \n",
       "1     False  \n",
       "2     False  \n",
       "3     False  \n",
       "4     False  "
      ]
     },
     "execution_count": 3,
     "metadata": {},
     "output_type": "execute_result"
    }
   ],
   "source": [
    "# Leer el archivo CSV\n",
    "df = pd.read_csv('spotify_tracks.csv')\n",
    "\n",
    "# Mostrar las primeras filas del DataFrame\n",
    "df.head()"
   ]
  },
  {
   "cell_type": "code",
   "execution_count": 4,
   "id": "2519c791-b8a5-4d6c-b76c-55453bda2e64",
   "metadata": {},
   "outputs": [
    {
     "data": {
      "text/plain": [
       "(6300, 8)"
      ]
     },
     "execution_count": 4,
     "metadata": {},
     "output_type": "execute_result"
    }
   ],
   "source": [
    "df.shape"
   ]
  },
  {
   "cell_type": "code",
   "execution_count": 5,
   "id": "4e95d97f-9e8c-42b6-8bf9-29ab3ab6786c",
   "metadata": {},
   "outputs": [
    {
     "data": {
      "text/plain": [
       "id             0\n",
       "name           0\n",
       "genre          0\n",
       "artists        0\n",
       "album          0\n",
       "popularity     0\n",
       "duration_ms    0\n",
       "explicit       0\n",
       "dtype: int64"
      ]
     },
     "execution_count": 5,
     "metadata": {},
     "output_type": "execute_result"
    }
   ],
   "source": [
    "df.isnull().sum()"
   ]
  },
  {
   "cell_type": "code",
   "execution_count": 8,
   "id": "3d1f3c27-a4bd-4839-9b0e-a8443708ed88",
   "metadata": {},
   "outputs": [
    {
     "data": {
      "text/plain": [
       "id             object\n",
       "name           object\n",
       "genre          object\n",
       "artists        object\n",
       "album          object\n",
       "popularity      int64\n",
       "duration_ms     int64\n",
       "explicit         bool\n",
       "dtype: object"
      ]
     },
     "execution_count": 8,
     "metadata": {},
     "output_type": "execute_result"
    }
   ],
   "source": [
    "df.dtypes"
   ]
  },
  {
   "cell_type": "code",
   "execution_count": null,
   "id": "bafb7fa5-3247-4f46-a419-576c687393d2",
   "metadata": {},
   "outputs": [],
   "source": []
  }
 ],
 "metadata": {
  "kernelspec": {
   "display_name": "Python 3 (ipykernel)",
   "language": "python",
   "name": "python3"
  },
  "language_info": {
   "codemirror_mode": {
    "name": "ipython",
    "version": 3
   },
   "file_extension": ".py",
   "mimetype": "text/x-python",
   "name": "python",
   "nbconvert_exporter": "python",
   "pygments_lexer": "ipython3",
   "version": "3.12.4"
  }
 },
 "nbformat": 4,
 "nbformat_minor": 5
}
